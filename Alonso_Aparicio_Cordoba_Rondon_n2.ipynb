{
  "nbformat": 4,
  "nbformat_minor": 0,
  "metadata": {
    "colab": {
      "provenance": [],
      "collapsed_sections": []
    },
    "kernelspec": {
      "name": "python3",
      "display_name": "Python 3"
    },
    "language_info": {
      "name": "python"
    }
  },
  "cells": [
    {
      "cell_type": "code",
      "execution_count": 21,
      "metadata": {
        "colab": {
          "base_uri": "https://localhost:8080/"
        },
        "id": "xXTkn8qk2wWq",
        "outputId": "e956ae39-e3b8-43e4-fc2c-b5509e0178af"
      },
      "outputs": [
        {
          "output_type": "stream",
          "name": "stdout",
          "text": [
            "dict_keys([alpha, gamma])\n",
            "El valor propio I del equlibrio I es: 0.200000000000000\n",
            "El valor propio II del equlibrio I es: 0.200000000000000\n",
            "dict_keys([K*beta1 + alpha, -gamma])\n",
            "El valor propio I del equlibrio II es: 0.240000000000000\n",
            "El valor propio II del equlibrio II es: -0.200000000000000\n",
            "dict_keys([-alpha, K*beta2 + gamma])\n",
            "El valor propio I del equlibrio III es: -0.200000000000000\n",
            "El valor propio II del equlibrio III es: 0.240000000000000\n",
            "dict_keys([alpha*gamma*(K*beta1 + K*beta2 + alpha + gamma)/(2*(K**2*beta1*beta2 - alpha*gamma)) - sqrt(alpha*gamma*(4*K**4*beta1**2*beta2**2 + 4*K**3*alpha*beta1*beta2**2 + 4*K**3*beta1**2*beta2*gamma + K**2*alpha*beta1**2*gamma + 2*K**2*alpha*beta1*beta2*gamma + K**2*alpha*beta2**2*gamma + 2*K*alpha**2*beta1*gamma - 2*K*alpha**2*beta2*gamma - 2*K*alpha*beta1*gamma**2 + 2*K*alpha*beta2*gamma**2 + alpha**3*gamma - 2*alpha**2*gamma**2 + alpha*gamma**3))/(2*(K**2*beta1*beta2 - alpha*gamma)), alpha*gamma*(K*beta1 + K*beta2 + alpha + gamma)/(2*(K**2*beta1*beta2 - alpha*gamma)) + sqrt(alpha*gamma*(4*K**4*beta1**2*beta2**2 + 4*K**3*alpha*beta1*beta2**2 + 4*K**3*beta1**2*beta2*gamma + K**2*alpha*beta1**2*gamma + 2*K**2*alpha*beta1*beta2*gamma + K**2*alpha*beta2**2*gamma + 2*K*alpha**2*beta1*gamma - 2*K*alpha**2*beta2*gamma - 2*K*alpha*beta1*gamma**2 + 2*K*alpha*beta2*gamma**2 + alpha**3*gamma - 2*alpha**2*gamma**2 + alpha*gamma**3))/(2*(K**2*beta1*beta2 - alpha*gamma))])\n",
            "El valor propio I del equlibrio IV es: -0.200000000000000\n",
            "El valor propio II del equlibrio IV es: -0.300000000000000\n"
          ]
        }
      ],
      "source": [
        "import sympy as sym\n",
        "\n",
        "alpha_v = 0.2\n",
        "gamma_v = 0.2\n",
        "beta1_v = 0.0001\n",
        "beta2_v = 0.0001\n",
        "K_v = 400\n",
        "\n",
        "alpha, gamma, K, beta1, beta2, x, y = sym.symbols('alpha gamma K beta1 beta2 x y') \n",
        "\n",
        "dxdt = (alpha * x) * (1 - (x/K)) + (beta1 * x * y)\n",
        "dydt = (gamma * y) * (1 - (y/K)) + (beta2 * x * y)\n",
        "\n",
        "SS = sym.solve([dxdt, dydt], [x, y])\n",
        "\n",
        "X = sym.Matrix([dxdt, dydt])\n",
        "X_Jacobian = X.jacobian([x, y])\n",
        "#sym.print_latex(X_Jacobian)\n",
        "\n",
        "JacobSS1 = X_Jacobian.subs([(x, SS[0][0]), (y, SS[0][1])])\n",
        "eigVals1 = JacobSS1.eigenvals()\n",
        "print(eigVals1.keys())\n",
        "lambda1_SS1 = list(eigVals1.keys())[0].subs([(alpha, alpha_v), (gamma, gamma_v), (beta1, beta1_v), (beta2, beta2_v), (K, K_v)])\n",
        "lambda2_SS1 = list(eigVals1.keys())[1].subs([(alpha, alpha_v), (gamma, gamma_v), (beta1, beta1_v), (beta2, beta2_v), (K, K_v)])\n",
        "print('El valor propio I del equlibrio I es:', lambda1_SS1)\n",
        "print('El valor propio II del equlibrio I es:', lambda2_SS1) \n",
        "\n",
        "JacobSS2 = X_Jacobian.subs([(x, SS[1][0]), (y, SS[1][1])])\n",
        "eigVals2 = JacobSS2.eigenvals()\n",
        "print(eigVals2.keys())\n",
        "lambda1_SS2 = list(eigVals2.keys())[0].subs([(alpha, alpha_v), (gamma, gamma_v), (beta1, beta1_v), (beta2, beta2_v), (K, K_v)])\n",
        "lambda2_SS2 = list(eigVals2.keys())[1].subs([(alpha, alpha_v), (gamma, gamma_v), (beta1, beta1_v), (beta2, beta2_v), (K, K_v)])\n",
        "print('El valor propio I del equlibrio II es:', lambda1_SS2)\n",
        "print('El valor propio II del equlibrio II es:', lambda2_SS2) \n",
        "\n",
        "JacobSS3 = X_Jacobian.subs([(x, SS[2][0]), (y, SS[2][1])])\n",
        "eigVals3 = JacobSS3.eigenvals()\n",
        "print(eigVals3.keys())\n",
        "lambda1_SS3 = list(eigVals3.keys())[0].subs([(alpha, alpha_v), (gamma, gamma_v), (beta1, beta1_v), (beta2, beta2_v), (K, K_v)])\n",
        "lambda2_SS3 = list(eigVals3.keys())[1].subs([(alpha, alpha_v), (gamma, gamma_v), (beta1, beta1_v), (beta2, beta2_v), (K, K_v)])\n",
        "print('El valor propio I del equlibrio III es:', lambda1_SS3)\n",
        "print('El valor propio II del equlibrio III es:', lambda2_SS3) \n",
        "\n",
        "JacobSS4 = X_Jacobian.subs([(x, SS[3][0]), (y, SS[3][1])])\n",
        "eigVals4 = JacobSS4.eigenvals()\n",
        "print(eigVals4.keys())\n",
        "lambda1_SS4 = list(eigVals4.keys())[0].subs([(alpha, alpha_v), (gamma, gamma_v), (beta1, beta1_v), (beta2, beta2_v), (K, K_v)])\n",
        "lambda2_SS4 = list(eigVals4.keys())[1].subs([(alpha, alpha_v), (gamma, gamma_v), (beta1, beta1_v), (beta2, beta2_v), (K, K_v)])\n",
        "print('El valor propio I del equlibrio IV es:', lambda1_SS4)\n",
        "print('El valor propio II del equlibrio IV es:', lambda2_SS4) "
      ]
    }
  ]
}