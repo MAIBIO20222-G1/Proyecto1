{
  "nbformat": 4,
  "nbformat_minor": 0,
  "metadata": {
    "colab": {
      "provenance": []
    },
    "kernelspec": {
      "name": "python3",
      "display_name": "Python 3"
    },
    "language_info": {
      "name": "python"
    }
  },
  "cells": [
    {
      "cell_type": "code",
      "execution_count": null,
      "metadata": {
        "colab": {
          "base_uri": "https://localhost:8080/"
        },
        "id": "ZXG_befk2iz3",
        "outputId": "aeb0485f-b0b4-4ef2-9583-a48dcf7540b7"
      },
      "outputs": [
        {
          "output_type": "stream",
          "name": "stdout",
          "text": [
            "[(0.0, 0.0, 0.0), (0.0, 0.0, K), (0.0, K, 0.0), (0.0, -2000.0*K/(K - 2000.0), -2000.0*K/(K - 2000.0)), (K, 0.0, 0.0), (-2000.0*K/(K - 2000.0), 0.0, -2000.0*K/(K - 2000.0)), (-2000.0*K/(K - 2000.0), -2000.0*K/(K - 2000.0), 0.0), (-1000.0*K/(K - 1000.0), -1000.0*K/(K - 1000.0), -1000.0*K/(K - 1000.0))]\n"
          ]
        }
      ],
      "source": [
        "import numpy as np\n",
        "import sympy as sym\n",
        "#import matplotlib.pyplot as plt\n",
        "from scipy.integrate import odeint\n",
        "\n",
        "x, y ,z, K,\\\n",
        "alpha1, alpha2, alpha3,\\\n",
        "beta1, beta2, beta3, beta4, beta5, beta6 = sym.symbols('x y z K alpha1 alpha2 alpha3 beta1 beta2 beta3 beta4 beta5 beta6')\n",
        "\n",
        "alpha1 = 0.2\n",
        "alpha2 = 0.2\n",
        "alpha3 = 0.2\n",
        "\n",
        "beta1 = 0.0001\n",
        "beta2 = 0.0001\n",
        "beta3 = 0.0001\n",
        "beta4 = 0.0001\n",
        "beta5 = 0.0001\n",
        "beta6 = 0.0001\n",
        "\n",
        "Eq1 = alpha1*x*(1-x/K) + beta1*x*y + beta2*x*z\n",
        "Eq2 = alpha2*y*(1-y/K) + beta3*x*y + beta4*y*z\n",
        "Eq3 = alpha3*z*(1-z/K) + beta5*x*z + beta6*y*z\n",
        "Sol = sym.solve([Eq1,Eq2,Eq3],[x,y,z])\n",
        "print(Sol)"
      ]
    },
    {
      "cell_type": "code",
      "source": [
        "x, y ,z, K,\\\n",
        "alpha1, alpha2, alpha3,\\\n",
        "beta1, beta2, beta3, beta4, beta5, beta6 = sym.symbols('x y z K alpha1 alpha2 alpha3 beta1 beta2 beta3 beta4 beta5 beta6')\n",
        "Eq1 = alpha1*x*(1-x/K) + beta1*x*y + beta2*x*z\n",
        "Eq2 = alpha2*y*(1-y/K) + beta3*x*y + beta4*y*z\n",
        "Eq3 = alpha3*z*(1-z/K) + beta5*x*z + beta6*y*z\n",
        "\n",
        "X = sym.Matrix([Eq1,Eq2,Eq3])\n",
        "X_jac = X.jacobian([x,y,z])\n",
        "sym.print_latex(X_jac)\n",
        "X_jac"
      ],
      "metadata": {
        "colab": {
          "base_uri": "https://localhost:8080/",
          "height": 116
        },
        "id": "NG8Oj9Fz9D1W",
        "outputId": "1cbd232c-aabf-41d7-8a9a-1c5e5a46bbbb"
      },
      "execution_count": null,
      "outputs": [
        {
          "output_type": "stream",
          "name": "stdout",
          "text": [
            "\\left[\\begin{matrix}\\alpha_{1} \\left(1 - \\frac{x}{K}\\right) + \\beta_{1} y + \\beta_{2} z - \\frac{\\alpha_{1} x}{K} & \\beta_{1} x & \\beta_{2} x\\\\\\beta_{3} y & \\alpha_{2} \\left(1 - \\frac{y}{K}\\right) + \\beta_{3} x + \\beta_{4} z - \\frac{\\alpha_{2} y}{K} & \\beta_{4} y\\\\\\beta_{5} z & \\beta_{6} z & \\alpha_{3} \\left(1 - \\frac{z}{K}\\right) + \\beta_{5} x + \\beta_{6} y - \\frac{\\alpha_{3} z}{K}\\end{matrix}\\right]\n"
          ]
        },
        {
          "output_type": "execute_result",
          "data": {
            "text/plain": [
              "Matrix([\n",
              "[alpha1*(1 - x/K) + beta1*y + beta2*z - alpha1*x/K,                                           beta1*x,                                           beta2*x],\n",
              "[                                          beta3*y, alpha2*(1 - y/K) + beta3*x + beta4*z - alpha2*y/K,                                           beta4*y],\n",
              "[                                          beta5*z,                                           beta6*z, alpha3*(1 - z/K) + beta5*x + beta6*y - alpha3*z/K]])"
            ],
            "text/latex": "$\\displaystyle \\left[\\begin{matrix}\\alpha_{1} \\left(1 - \\frac{x}{K}\\right) + \\beta_{1} y + \\beta_{2} z - \\frac{\\alpha_{1} x}{K} & \\beta_{1} x & \\beta_{2} x\\\\\\beta_{3} y & \\alpha_{2} \\left(1 - \\frac{y}{K}\\right) + \\beta_{3} x + \\beta_{4} z - \\frac{\\alpha_{2} y}{K} & \\beta_{4} y\\\\\\beta_{5} z & \\beta_{6} z & \\alpha_{3} \\left(1 - \\frac{z}{K}\\right) + \\beta_{5} x + \\beta_{6} y - \\frac{\\alpha_{3} z}{K}\\end{matrix}\\right]$"
          },
          "metadata": {},
          "execution_count": 8
        }
      ]
    },
    {
      "cell_type": "code",
      "source": [
        "for i in range(8):\n",
        "  E1 = X_jac.subs([(x,Sol[i][0]),(y,Sol[i][1]),(z,Sol[i][2])])\n",
        "  E1_eg = E1.eigenvals()\n",
        "  #E1_eg\n",
        "  #print(E1_eg.keys())\n",
        "  alpha1_v = 0.2\n",
        "  alpha2_v = 0.2\n",
        "  alpha3_v = 0.2\n",
        "  beta1_v = 0.0001\n",
        "  beta2_v = 0.0001\n",
        "  beta3_v = 0.0001\n",
        "  beta4_v = 0.0001\n",
        "  beta5_v = 0.0001\n",
        "  beta6_v = 0.0001\n",
        "  K_v = 400\n",
        "\n",
        "  lambda1_SS1 = list(E1_eg.keys())[0].subs([(alpha1, alpha1_v), (alpha2, alpha2_v), (alpha3, alpha3_v), \n",
        "                                            (beta1, beta1_v), (beta2, beta2_v), (beta3, beta3_v), (beta4, beta4_v), (beta5, beta5_v),(beta6, beta6_v),\n",
        "                                            (K, K_v)])\n",
        "  lambda2_SS1 = list(E1_eg.keys())[1].subs([(alpha1, alpha1_v), (alpha2, alpha2_v), (alpha3, alpha3_v), \n",
        "                                            (beta1, beta1_v), (beta2, beta2_v), (beta3, beta3_v), (beta4, beta4_v), (beta5, beta5_v),(beta6, beta6_v),\n",
        "                                            (K, K_v)])\n",
        "  lambda3_SS1 = list(E1_eg.keys())[2].subs([(alpha1, alpha1_v), (alpha2, alpha2_v), (alpha3, alpha3_v), \n",
        "                                            (beta1, beta1_v), (beta2, beta2_v), (beta3, beta3_v), (beta4, beta4_v), (beta5, beta5_v),(beta6, beta6_v),\n",
        "                                            (K, K_v)])\n",
        "  print(f'El valor propio I del equlibrio {i} es:', lambda1_SS1)\n",
        "  print(f'El valor propio II del equlibrio {i} es:', lambda2_SS1) \n",
        "  print(f'El valor propio III del equlibrio {i} es:', lambda3_SS1) \n",
        "\n"
      ],
      "metadata": {
        "colab": {
          "base_uri": "https://localhost:8080/",
          "height": 782
        },
        "id": "bGh4LGCu_rPk",
        "outputId": "3f73a15e-b9fb-4c10-a567-e0d6ad713c8c"
      },
      "execution_count": 13,
      "outputs": [
        {
          "output_type": "stream",
          "name": "stdout",
          "text": [
            "El valor propio I del equlibrio 0 es: 0.200000000000000\n",
            "El valor propio II del equlibrio 0 es: 0.200000000000000\n",
            "El valor propio III del equlibrio 0 es: 0.200000000000000\n",
            "El valor propio I del equlibrio 1 es: 0.240000000000000\n",
            "El valor propio II del equlibrio 1 es: 0.240000000000000\n",
            "El valor propio III del equlibrio 1 es: -0.200000000000000\n",
            "El valor propio I del equlibrio 2 es: -0.200000000000000\n",
            "El valor propio II del equlibrio 2 es: 0.240000000000000\n",
            "El valor propio III del equlibrio 2 es: 0.240000000000000\n",
            "El valor propio I del equlibrio 3 es: -0.0666666666666667 - 2**(2/3)*(-0.0114074074074074 + 0.00577350269189625*I)**(1/3)/2 - 0.0344444444444445*2**(1/3)/(-0.0114074074074074 + 0.00577350269189625*I)**(1/3)\n",
            "El valor propio II del equlibrio 3 es: -0.0666666666666667 - 2**(2/3)*(-1/2 + sqrt(3)*I/2)*(-0.0114074074074074 + 0.00577350269189625*I)**(1/3)/2 - 0.0344444444444445*2**(1/3)/((-1/2 + sqrt(3)*I/2)*(-0.0114074074074074 + 0.00577350269189625*I)**(1/3))\n",
            "El valor propio III del equlibrio 3 es: -0.0666666666666667 - 0.0344444444444445*2**(1/3)/((-1/2 - sqrt(3)*I/2)*(-0.0114074074074074 + 0.00577350269189625*I)**(1/3)) - 2**(2/3)*(-1/2 - sqrt(3)*I/2)*(-0.0114074074074074 + 0.00577350269189625*I)**(1/3)/2\n",
            "El valor propio I del equlibrio 4 es: -0.200000000000000\n",
            "El valor propio II del equlibrio 4 es: 0.240000000000000\n",
            "El valor propio III del equlibrio 4 es: 0.240000000000000\n"
          ]
        },
        {
          "output_type": "error",
          "ename": "CoercionFailed",
          "evalue": "ignored",
          "traceback": [
            "\u001b[0;31m---------------------------------------------------------------------------\u001b[0m",
            "\u001b[0;31mCoercionFailed\u001b[0m                            Traceback (most recent call last)",
            "\u001b[0;32m<ipython-input-13-43a081e0fdf8>\u001b[0m in \u001b[0;36m<module>\u001b[0;34m\u001b[0m\n\u001b[1;32m      1\u001b[0m \u001b[0;32mfor\u001b[0m \u001b[0mi\u001b[0m \u001b[0;32min\u001b[0m \u001b[0mrange\u001b[0m\u001b[0;34m(\u001b[0m\u001b[0;36m8\u001b[0m\u001b[0;34m)\u001b[0m\u001b[0;34m:\u001b[0m\u001b[0;34m\u001b[0m\u001b[0;34m\u001b[0m\u001b[0m\n\u001b[1;32m      2\u001b[0m   \u001b[0mE1\u001b[0m \u001b[0;34m=\u001b[0m \u001b[0mX_jac\u001b[0m\u001b[0;34m.\u001b[0m\u001b[0msubs\u001b[0m\u001b[0;34m(\u001b[0m\u001b[0;34m[\u001b[0m\u001b[0;34m(\u001b[0m\u001b[0mx\u001b[0m\u001b[0;34m,\u001b[0m\u001b[0mSol\u001b[0m\u001b[0;34m[\u001b[0m\u001b[0mi\u001b[0m\u001b[0;34m]\u001b[0m\u001b[0;34m[\u001b[0m\u001b[0;36m0\u001b[0m\u001b[0;34m]\u001b[0m\u001b[0;34m)\u001b[0m\u001b[0;34m,\u001b[0m\u001b[0;34m(\u001b[0m\u001b[0my\u001b[0m\u001b[0;34m,\u001b[0m\u001b[0mSol\u001b[0m\u001b[0;34m[\u001b[0m\u001b[0mi\u001b[0m\u001b[0;34m]\u001b[0m\u001b[0;34m[\u001b[0m\u001b[0;36m1\u001b[0m\u001b[0;34m]\u001b[0m\u001b[0;34m)\u001b[0m\u001b[0;34m,\u001b[0m\u001b[0;34m(\u001b[0m\u001b[0mz\u001b[0m\u001b[0;34m,\u001b[0m\u001b[0mSol\u001b[0m\u001b[0;34m[\u001b[0m\u001b[0mi\u001b[0m\u001b[0;34m]\u001b[0m\u001b[0;34m[\u001b[0m\u001b[0;36m2\u001b[0m\u001b[0;34m]\u001b[0m\u001b[0;34m)\u001b[0m\u001b[0;34m]\u001b[0m\u001b[0;34m)\u001b[0m\u001b[0;34m\u001b[0m\u001b[0;34m\u001b[0m\u001b[0m\n\u001b[0;32m----> 3\u001b[0;31m   \u001b[0mE1_eg\u001b[0m \u001b[0;34m=\u001b[0m \u001b[0mE1\u001b[0m\u001b[0;34m.\u001b[0m\u001b[0meigenvals\u001b[0m\u001b[0;34m(\u001b[0m\u001b[0;34m)\u001b[0m\u001b[0;34m\u001b[0m\u001b[0;34m\u001b[0m\u001b[0m\n\u001b[0m\u001b[1;32m      4\u001b[0m   \u001b[0;31m#E1_eg\u001b[0m\u001b[0;34m\u001b[0m\u001b[0;34m\u001b[0m\u001b[0;34m\u001b[0m\u001b[0m\n\u001b[1;32m      5\u001b[0m   \u001b[0;31m#print(E1_eg.keys())\u001b[0m\u001b[0;34m\u001b[0m\u001b[0;34m\u001b[0m\u001b[0;34m\u001b[0m\u001b[0m\n",
            "\u001b[0;32m/usr/local/lib/python3.7/dist-packages/sympy/matrices/matrices.py\u001b[0m in \u001b[0;36meigenvals\u001b[0;34m(self, error_when_incomplete, **flags)\u001b[0m\n\u001b[1;32m    366\u001b[0m \u001b[0;34m\u001b[0m\u001b[0m\n\u001b[1;32m    367\u001b[0m     \u001b[0;32mdef\u001b[0m \u001b[0meigenvals\u001b[0m\u001b[0;34m(\u001b[0m\u001b[0mself\u001b[0m\u001b[0;34m,\u001b[0m \u001b[0merror_when_incomplete\u001b[0m\u001b[0;34m=\u001b[0m\u001b[0;32mTrue\u001b[0m\u001b[0;34m,\u001b[0m \u001b[0;34m**\u001b[0m\u001b[0mflags\u001b[0m\u001b[0;34m)\u001b[0m\u001b[0;34m:\u001b[0m\u001b[0;34m\u001b[0m\u001b[0;34m\u001b[0m\u001b[0m\n\u001b[0;32m--> 368\u001b[0;31m         \u001b[0;32mreturn\u001b[0m \u001b[0m_eigenvals\u001b[0m\u001b[0;34m(\u001b[0m\u001b[0mself\u001b[0m\u001b[0;34m,\u001b[0m \u001b[0merror_when_incomplete\u001b[0m\u001b[0;34m=\u001b[0m\u001b[0merror_when_incomplete\u001b[0m\u001b[0;34m,\u001b[0m \u001b[0;34m**\u001b[0m\u001b[0mflags\u001b[0m\u001b[0;34m)\u001b[0m\u001b[0;34m\u001b[0m\u001b[0;34m\u001b[0m\u001b[0m\n\u001b[0m\u001b[1;32m    369\u001b[0m \u001b[0;34m\u001b[0m\u001b[0m\n\u001b[1;32m    370\u001b[0m     \u001b[0;32mdef\u001b[0m \u001b[0meigenvects\u001b[0m\u001b[0;34m(\u001b[0m\u001b[0mself\u001b[0m\u001b[0;34m,\u001b[0m \u001b[0merror_when_incomplete\u001b[0m\u001b[0;34m=\u001b[0m\u001b[0;32mTrue\u001b[0m\u001b[0;34m,\u001b[0m \u001b[0miszerofunc\u001b[0m\u001b[0;34m=\u001b[0m\u001b[0m_iszero\u001b[0m\u001b[0;34m,\u001b[0m \u001b[0;34m**\u001b[0m\u001b[0mflags\u001b[0m\u001b[0;34m)\u001b[0m\u001b[0;34m:\u001b[0m\u001b[0;34m\u001b[0m\u001b[0;34m\u001b[0m\u001b[0m\n",
            "\u001b[0;32m/usr/local/lib/python3.7/dist-packages/sympy/matrices/eigen.py\u001b[0m in \u001b[0;36m_eigenvals\u001b[0;34m(M, error_when_incomplete, simplify, multiple, rational, **flags)\u001b[0m\n\u001b[1;32m    175\u001b[0m     return _eigenvals_dict(\n\u001b[1;32m    176\u001b[0m         \u001b[0mM\u001b[0m\u001b[0;34m,\u001b[0m \u001b[0merror_when_incomplete\u001b[0m\u001b[0;34m=\u001b[0m\u001b[0merror_when_incomplete\u001b[0m\u001b[0;34m,\u001b[0m \u001b[0msimplify\u001b[0m\u001b[0;34m=\u001b[0m\u001b[0msimplify\u001b[0m\u001b[0;34m,\u001b[0m\u001b[0;34m\u001b[0m\u001b[0;34m\u001b[0m\u001b[0m\n\u001b[0;32m--> 177\u001b[0;31m         **flags)\n\u001b[0m\u001b[1;32m    178\u001b[0m \u001b[0;34m\u001b[0m\u001b[0m\n\u001b[1;32m    179\u001b[0m \u001b[0;34m\u001b[0m\u001b[0m\n",
            "\u001b[0;32m/usr/local/lib/python3.7/dist-packages/sympy/matrices/eigen.py\u001b[0m in \u001b[0;36m_eigenvals_dict\u001b[0;34m(M, error_when_incomplete, simplify, **flags)\u001b[0m\n\u001b[1;32m    218\u001b[0m         \u001b[0;32melse\u001b[0m\u001b[0;34m:\u001b[0m\u001b[0;34m\u001b[0m\u001b[0;34m\u001b[0m\u001b[0m\n\u001b[1;32m    219\u001b[0m             \u001b[0mcharpoly\u001b[0m \u001b[0;34m=\u001b[0m \u001b[0mblock\u001b[0m\u001b[0;34m.\u001b[0m\u001b[0mcharpoly\u001b[0m\u001b[0;34m(\u001b[0m\u001b[0;34m)\u001b[0m\u001b[0;34m\u001b[0m\u001b[0;34m\u001b[0m\u001b[0m\n\u001b[0;32m--> 220\u001b[0;31m         \u001b[0meigs\u001b[0m \u001b[0;34m=\u001b[0m \u001b[0mroots\u001b[0m\u001b[0;34m(\u001b[0m\u001b[0mcharpoly\u001b[0m\u001b[0;34m,\u001b[0m \u001b[0mmultiple\u001b[0m\u001b[0;34m=\u001b[0m\u001b[0;32mFalse\u001b[0m\u001b[0;34m,\u001b[0m \u001b[0;34m**\u001b[0m\u001b[0mflags\u001b[0m\u001b[0;34m)\u001b[0m\u001b[0;34m\u001b[0m\u001b[0;34m\u001b[0m\u001b[0m\n\u001b[0m\u001b[1;32m    221\u001b[0m \u001b[0;34m\u001b[0m\u001b[0m\n\u001b[1;32m    222\u001b[0m         \u001b[0;32mif\u001b[0m \u001b[0merror_when_incomplete\u001b[0m\u001b[0;34m:\u001b[0m\u001b[0;34m\u001b[0m\u001b[0;34m\u001b[0m\u001b[0m\n",
            "\u001b[0;32m/usr/local/lib/python3.7/dist-packages/sympy/polys/polyroots.py\u001b[0m in \u001b[0;36mroots\u001b[0;34m(f, auto, cubics, trig, quartics, quintics, multiple, filter, predicate, *gens, **flags)\u001b[0m\n\u001b[1;32m    982\u001b[0m         \u001b[0mzeros\u001b[0m \u001b[0;34m=\u001b[0m \u001b[0;34m{\u001b[0m\u001b[0mS\u001b[0m\u001b[0;34m.\u001b[0m\u001b[0mZero\u001b[0m\u001b[0;34m:\u001b[0m \u001b[0mk\u001b[0m\u001b[0;34m}\u001b[0m\u001b[0;34m\u001b[0m\u001b[0;34m\u001b[0m\u001b[0m\n\u001b[1;32m    983\u001b[0m \u001b[0;34m\u001b[0m\u001b[0m\n\u001b[0;32m--> 984\u001b[0;31m     \u001b[0mcoeff\u001b[0m\u001b[0;34m,\u001b[0m \u001b[0mf\u001b[0m \u001b[0;34m=\u001b[0m \u001b[0mpreprocess_roots\u001b[0m\u001b[0;34m(\u001b[0m\u001b[0mf\u001b[0m\u001b[0;34m)\u001b[0m\u001b[0;34m\u001b[0m\u001b[0;34m\u001b[0m\u001b[0m\n\u001b[0m\u001b[1;32m    985\u001b[0m \u001b[0;34m\u001b[0m\u001b[0m\n\u001b[1;32m    986\u001b[0m     \u001b[0;32mif\u001b[0m \u001b[0mauto\u001b[0m \u001b[0;32mand\u001b[0m \u001b[0mf\u001b[0m\u001b[0;34m.\u001b[0m\u001b[0mget_domain\u001b[0m\u001b[0;34m(\u001b[0m\u001b[0;34m)\u001b[0m\u001b[0;34m.\u001b[0m\u001b[0mis_Ring\u001b[0m\u001b[0;34m:\u001b[0m\u001b[0;34m\u001b[0m\u001b[0;34m\u001b[0m\u001b[0m\n",
            "\u001b[0;32m/usr/local/lib/python3.7/dist-packages/sympy/polys/polyroots.py\u001b[0m in \u001b[0;36mpreprocess_roots\u001b[0;34m(poly)\u001b[0m\n\u001b[1;32m    719\u001b[0m     \u001b[0mpoly_func\u001b[0m \u001b[0;34m=\u001b[0m \u001b[0mpoly\u001b[0m\u001b[0;34m.\u001b[0m\u001b[0mfunc\u001b[0m\u001b[0;34m\u001b[0m\u001b[0;34m\u001b[0m\u001b[0m\n\u001b[1;32m    720\u001b[0m     \u001b[0;32mtry\u001b[0m\u001b[0;34m:\u001b[0m\u001b[0;34m\u001b[0m\u001b[0;34m\u001b[0m\u001b[0m\n\u001b[0;32m--> 721\u001b[0;31m         \u001b[0m_\u001b[0m\u001b[0;34m,\u001b[0m \u001b[0mpoly\u001b[0m \u001b[0;34m=\u001b[0m \u001b[0mpoly\u001b[0m\u001b[0;34m.\u001b[0m\u001b[0mclear_denoms\u001b[0m\u001b[0;34m(\u001b[0m\u001b[0mconvert\u001b[0m\u001b[0;34m=\u001b[0m\u001b[0;32mTrue\u001b[0m\u001b[0;34m)\u001b[0m\u001b[0;34m\u001b[0m\u001b[0;34m\u001b[0m\u001b[0m\n\u001b[0m\u001b[1;32m    722\u001b[0m     \u001b[0;32mexcept\u001b[0m \u001b[0mDomainError\u001b[0m\u001b[0;34m:\u001b[0m\u001b[0;34m\u001b[0m\u001b[0;34m\u001b[0m\u001b[0m\n\u001b[1;32m    723\u001b[0m         \u001b[0;32mreturn\u001b[0m \u001b[0mcoeff\u001b[0m\u001b[0;34m,\u001b[0m \u001b[0mpoly\u001b[0m\u001b[0;34m\u001b[0m\u001b[0;34m\u001b[0m\u001b[0m\n",
            "\u001b[0;32m/usr/local/lib/python3.7/dist-packages/sympy/polys/polytools.py\u001b[0m in \u001b[0;36mclear_denoms\u001b[0;34m(self, convert)\u001b[0m\n\u001b[1;32m   2254\u001b[0m             \u001b[0;32mreturn\u001b[0m \u001b[0mcoeff\u001b[0m\u001b[0;34m,\u001b[0m \u001b[0mf\u001b[0m\u001b[0;34m\u001b[0m\u001b[0;34m\u001b[0m\u001b[0m\n\u001b[1;32m   2255\u001b[0m         \u001b[0;32melse\u001b[0m\u001b[0;34m:\u001b[0m\u001b[0;34m\u001b[0m\u001b[0;34m\u001b[0m\u001b[0m\n\u001b[0;32m-> 2256\u001b[0;31m             \u001b[0;32mreturn\u001b[0m \u001b[0mcoeff\u001b[0m\u001b[0;34m,\u001b[0m \u001b[0mf\u001b[0m\u001b[0;34m.\u001b[0m\u001b[0mto_ring\u001b[0m\u001b[0;34m(\u001b[0m\u001b[0;34m)\u001b[0m\u001b[0;34m\u001b[0m\u001b[0;34m\u001b[0m\u001b[0m\n\u001b[0m\u001b[1;32m   2257\u001b[0m \u001b[0;34m\u001b[0m\u001b[0m\n\u001b[1;32m   2258\u001b[0m     \u001b[0;32mdef\u001b[0m \u001b[0mrat_clear_denoms\u001b[0m\u001b[0;34m(\u001b[0m\u001b[0mself\u001b[0m\u001b[0;34m,\u001b[0m \u001b[0mg\u001b[0m\u001b[0;34m)\u001b[0m\u001b[0;34m:\u001b[0m\u001b[0;34m\u001b[0m\u001b[0;34m\u001b[0m\u001b[0m\n",
            "\u001b[0;32m/usr/local/lib/python3.7/dist-packages/sympy/polys/polytools.py\u001b[0m in \u001b[0;36mto_ring\u001b[0;34m(f)\u001b[0m\n\u001b[1;32m    744\u001b[0m         \"\"\"\n\u001b[1;32m    745\u001b[0m         \u001b[0;32mif\u001b[0m \u001b[0mhasattr\u001b[0m\u001b[0;34m(\u001b[0m\u001b[0mf\u001b[0m\u001b[0;34m.\u001b[0m\u001b[0mrep\u001b[0m\u001b[0;34m,\u001b[0m \u001b[0;34m'to_ring'\u001b[0m\u001b[0;34m)\u001b[0m\u001b[0;34m:\u001b[0m\u001b[0;34m\u001b[0m\u001b[0;34m\u001b[0m\u001b[0m\n\u001b[0;32m--> 746\u001b[0;31m             \u001b[0mresult\u001b[0m \u001b[0;34m=\u001b[0m \u001b[0mf\u001b[0m\u001b[0;34m.\u001b[0m\u001b[0mrep\u001b[0m\u001b[0;34m.\u001b[0m\u001b[0mto_ring\u001b[0m\u001b[0;34m(\u001b[0m\u001b[0;34m)\u001b[0m\u001b[0;34m\u001b[0m\u001b[0;34m\u001b[0m\u001b[0m\n\u001b[0m\u001b[1;32m    747\u001b[0m         \u001b[0;32melse\u001b[0m\u001b[0;34m:\u001b[0m  \u001b[0;31m# pragma: no cover\u001b[0m\u001b[0;34m\u001b[0m\u001b[0;34m\u001b[0m\u001b[0m\n\u001b[1;32m    748\u001b[0m             \u001b[0;32mraise\u001b[0m \u001b[0mOperationNotSupported\u001b[0m\u001b[0;34m(\u001b[0m\u001b[0mf\u001b[0m\u001b[0;34m,\u001b[0m \u001b[0;34m'to_ring'\u001b[0m\u001b[0;34m)\u001b[0m\u001b[0;34m\u001b[0m\u001b[0;34m\u001b[0m\u001b[0m\n",
            "\u001b[0;32m/usr/local/lib/python3.7/dist-packages/sympy/polys/polyclasses.py\u001b[0m in \u001b[0;36mto_ring\u001b[0;34m(f)\u001b[0m\n\u001b[1;32m    282\u001b[0m     \u001b[0;32mdef\u001b[0m \u001b[0mto_ring\u001b[0m\u001b[0;34m(\u001b[0m\u001b[0mf\u001b[0m\u001b[0;34m)\u001b[0m\u001b[0;34m:\u001b[0m\u001b[0;34m\u001b[0m\u001b[0;34m\u001b[0m\u001b[0m\n\u001b[1;32m    283\u001b[0m         \u001b[0;34m\"\"\"Make the ground domain a ring. \"\"\"\u001b[0m\u001b[0;34m\u001b[0m\u001b[0;34m\u001b[0m\u001b[0m\n\u001b[0;32m--> 284\u001b[0;31m         \u001b[0;32mreturn\u001b[0m \u001b[0mf\u001b[0m\u001b[0;34m.\u001b[0m\u001b[0mconvert\u001b[0m\u001b[0;34m(\u001b[0m\u001b[0mf\u001b[0m\u001b[0;34m.\u001b[0m\u001b[0mdom\u001b[0m\u001b[0;34m.\u001b[0m\u001b[0mget_ring\u001b[0m\u001b[0;34m(\u001b[0m\u001b[0;34m)\u001b[0m\u001b[0;34m)\u001b[0m\u001b[0;34m\u001b[0m\u001b[0;34m\u001b[0m\u001b[0m\n\u001b[0m\u001b[1;32m    285\u001b[0m \u001b[0;34m\u001b[0m\u001b[0m\n\u001b[1;32m    286\u001b[0m     \u001b[0;32mdef\u001b[0m \u001b[0mto_field\u001b[0m\u001b[0;34m(\u001b[0m\u001b[0mf\u001b[0m\u001b[0;34m)\u001b[0m\u001b[0;34m:\u001b[0m\u001b[0;34m\u001b[0m\u001b[0;34m\u001b[0m\u001b[0m\n",
            "\u001b[0;32m/usr/local/lib/python3.7/dist-packages/sympy/polys/polyclasses.py\u001b[0m in \u001b[0;36mconvert\u001b[0;34m(f, dom)\u001b[0m\n\u001b[1;32m    297\u001b[0m             \u001b[0;32mreturn\u001b[0m \u001b[0mf\u001b[0m\u001b[0;34m\u001b[0m\u001b[0;34m\u001b[0m\u001b[0m\n\u001b[1;32m    298\u001b[0m         \u001b[0;32melse\u001b[0m\u001b[0;34m:\u001b[0m\u001b[0;34m\u001b[0m\u001b[0;34m\u001b[0m\u001b[0m\n\u001b[0;32m--> 299\u001b[0;31m             \u001b[0;32mreturn\u001b[0m \u001b[0mDMP\u001b[0m\u001b[0;34m(\u001b[0m\u001b[0mdmp_convert\u001b[0m\u001b[0;34m(\u001b[0m\u001b[0mf\u001b[0m\u001b[0;34m.\u001b[0m\u001b[0mrep\u001b[0m\u001b[0;34m,\u001b[0m \u001b[0mf\u001b[0m\u001b[0;34m.\u001b[0m\u001b[0mlev\u001b[0m\u001b[0;34m,\u001b[0m \u001b[0mf\u001b[0m\u001b[0;34m.\u001b[0m\u001b[0mdom\u001b[0m\u001b[0;34m,\u001b[0m \u001b[0mdom\u001b[0m\u001b[0;34m)\u001b[0m\u001b[0;34m,\u001b[0m \u001b[0mdom\u001b[0m\u001b[0;34m,\u001b[0m \u001b[0mf\u001b[0m\u001b[0;34m.\u001b[0m\u001b[0mlev\u001b[0m\u001b[0;34m)\u001b[0m\u001b[0;34m\u001b[0m\u001b[0;34m\u001b[0m\u001b[0m\n\u001b[0m\u001b[1;32m    300\u001b[0m \u001b[0;34m\u001b[0m\u001b[0m\n\u001b[1;32m    301\u001b[0m     \u001b[0;32mdef\u001b[0m \u001b[0mslice\u001b[0m\u001b[0;34m(\u001b[0m\u001b[0mf\u001b[0m\u001b[0;34m,\u001b[0m \u001b[0mm\u001b[0m\u001b[0;34m,\u001b[0m \u001b[0mn\u001b[0m\u001b[0;34m,\u001b[0m \u001b[0mj\u001b[0m\u001b[0;34m=\u001b[0m\u001b[0;36m0\u001b[0m\u001b[0;34m)\u001b[0m\u001b[0;34m:\u001b[0m\u001b[0;34m\u001b[0m\u001b[0;34m\u001b[0m\u001b[0m\n",
            "\u001b[0;32m/usr/local/lib/python3.7/dist-packages/sympy/polys/densebasic.py\u001b[0m in \u001b[0;36mdmp_convert\u001b[0;34m(f, u, K0, K1)\u001b[0m\n\u001b[1;32m    559\u001b[0m     \"\"\"\n\u001b[1;32m    560\u001b[0m     \u001b[0;32mif\u001b[0m \u001b[0;32mnot\u001b[0m \u001b[0mu\u001b[0m\u001b[0;34m:\u001b[0m\u001b[0;34m\u001b[0m\u001b[0;34m\u001b[0m\u001b[0m\n\u001b[0;32m--> 561\u001b[0;31m         \u001b[0;32mreturn\u001b[0m \u001b[0mdup_convert\u001b[0m\u001b[0;34m(\u001b[0m\u001b[0mf\u001b[0m\u001b[0;34m,\u001b[0m \u001b[0mK0\u001b[0m\u001b[0;34m,\u001b[0m \u001b[0mK1\u001b[0m\u001b[0;34m)\u001b[0m\u001b[0;34m\u001b[0m\u001b[0;34m\u001b[0m\u001b[0m\n\u001b[0m\u001b[1;32m    562\u001b[0m     \u001b[0;32mif\u001b[0m \u001b[0mK0\u001b[0m \u001b[0;32mis\u001b[0m \u001b[0;32mnot\u001b[0m \u001b[0;32mNone\u001b[0m \u001b[0;32mand\u001b[0m \u001b[0mK0\u001b[0m \u001b[0;34m==\u001b[0m \u001b[0mK1\u001b[0m\u001b[0;34m:\u001b[0m\u001b[0;34m\u001b[0m\u001b[0;34m\u001b[0m\u001b[0m\n\u001b[1;32m    563\u001b[0m         \u001b[0;32mreturn\u001b[0m \u001b[0mf\u001b[0m\u001b[0;34m\u001b[0m\u001b[0;34m\u001b[0m\u001b[0m\n",
            "\u001b[0;32m/usr/local/lib/python3.7/dist-packages/sympy/polys/densebasic.py\u001b[0m in \u001b[0;36mdup_convert\u001b[0;34m(f, K0, K1)\u001b[0m\n\u001b[1;32m    536\u001b[0m         \u001b[0;32mreturn\u001b[0m \u001b[0mf\u001b[0m\u001b[0;34m\u001b[0m\u001b[0;34m\u001b[0m\u001b[0m\n\u001b[1;32m    537\u001b[0m     \u001b[0;32melse\u001b[0m\u001b[0;34m:\u001b[0m\u001b[0;34m\u001b[0m\u001b[0;34m\u001b[0m\u001b[0m\n\u001b[0;32m--> 538\u001b[0;31m         \u001b[0;32mreturn\u001b[0m \u001b[0mdup_strip\u001b[0m\u001b[0;34m(\u001b[0m\u001b[0;34m[\u001b[0m \u001b[0mK1\u001b[0m\u001b[0;34m.\u001b[0m\u001b[0mconvert\u001b[0m\u001b[0;34m(\u001b[0m\u001b[0mc\u001b[0m\u001b[0;34m,\u001b[0m \u001b[0mK0\u001b[0m\u001b[0;34m)\u001b[0m \u001b[0;32mfor\u001b[0m \u001b[0mc\u001b[0m \u001b[0;32min\u001b[0m \u001b[0mf\u001b[0m \u001b[0;34m]\u001b[0m\u001b[0;34m)\u001b[0m\u001b[0;34m\u001b[0m\u001b[0;34m\u001b[0m\u001b[0m\n\u001b[0m\u001b[1;32m    539\u001b[0m \u001b[0;34m\u001b[0m\u001b[0m\n\u001b[1;32m    540\u001b[0m \u001b[0;34m\u001b[0m\u001b[0m\n",
            "\u001b[0;32m/usr/local/lib/python3.7/dist-packages/sympy/polys/densebasic.py\u001b[0m in \u001b[0;36m<listcomp>\u001b[0;34m(.0)\u001b[0m\n\u001b[1;32m    536\u001b[0m         \u001b[0;32mreturn\u001b[0m \u001b[0mf\u001b[0m\u001b[0;34m\u001b[0m\u001b[0;34m\u001b[0m\u001b[0m\n\u001b[1;32m    537\u001b[0m     \u001b[0;32melse\u001b[0m\u001b[0;34m:\u001b[0m\u001b[0;34m\u001b[0m\u001b[0;34m\u001b[0m\u001b[0m\n\u001b[0;32m--> 538\u001b[0;31m         \u001b[0;32mreturn\u001b[0m \u001b[0mdup_strip\u001b[0m\u001b[0;34m(\u001b[0m\u001b[0;34m[\u001b[0m \u001b[0mK1\u001b[0m\u001b[0;34m.\u001b[0m\u001b[0mconvert\u001b[0m\u001b[0;34m(\u001b[0m\u001b[0mc\u001b[0m\u001b[0;34m,\u001b[0m \u001b[0mK0\u001b[0m\u001b[0;34m)\u001b[0m \u001b[0;32mfor\u001b[0m \u001b[0mc\u001b[0m \u001b[0;32min\u001b[0m \u001b[0mf\u001b[0m \u001b[0;34m]\u001b[0m\u001b[0;34m)\u001b[0m\u001b[0;34m\u001b[0m\u001b[0;34m\u001b[0m\u001b[0m\n\u001b[0m\u001b[1;32m    539\u001b[0m \u001b[0;34m\u001b[0m\u001b[0m\n\u001b[1;32m    540\u001b[0m \u001b[0;34m\u001b[0m\u001b[0m\n",
            "\u001b[0;32m/usr/local/lib/python3.7/dist-packages/sympy/polys/domains/domain.py\u001b[0m in \u001b[0;36mconvert\u001b[0;34m(self, element, base)\u001b[0m\n\u001b[1;32m    110\u001b[0m \u001b[0;34m\u001b[0m\u001b[0m\n\u001b[1;32m    111\u001b[0m         \u001b[0;32mif\u001b[0m \u001b[0mbase\u001b[0m \u001b[0;32mis\u001b[0m \u001b[0;32mnot\u001b[0m \u001b[0;32mNone\u001b[0m\u001b[0;34m:\u001b[0m\u001b[0;34m\u001b[0m\u001b[0;34m\u001b[0m\u001b[0m\n\u001b[0;32m--> 112\u001b[0;31m             \u001b[0;32mreturn\u001b[0m \u001b[0mself\u001b[0m\u001b[0;34m.\u001b[0m\u001b[0mconvert_from\u001b[0m\u001b[0;34m(\u001b[0m\u001b[0melement\u001b[0m\u001b[0;34m,\u001b[0m \u001b[0mbase\u001b[0m\u001b[0;34m)\u001b[0m\u001b[0;34m\u001b[0m\u001b[0;34m\u001b[0m\u001b[0m\n\u001b[0m\u001b[1;32m    113\u001b[0m \u001b[0;34m\u001b[0m\u001b[0m\n\u001b[1;32m    114\u001b[0m         \u001b[0;32mif\u001b[0m \u001b[0mself\u001b[0m\u001b[0;34m.\u001b[0m\u001b[0mof_type\u001b[0m\u001b[0;34m(\u001b[0m\u001b[0melement\u001b[0m\u001b[0;34m)\u001b[0m\u001b[0;34m:\u001b[0m\u001b[0;34m\u001b[0m\u001b[0;34m\u001b[0m\u001b[0m\n",
            "\u001b[0;32m/usr/local/lib/python3.7/dist-packages/sympy/polys/domains/domain.py\u001b[0m in \u001b[0;36mconvert_from\u001b[0;34m(self, element, base)\u001b[0m\n\u001b[1;32m    102\u001b[0m                 \u001b[0;32mreturn\u001b[0m \u001b[0mresult\u001b[0m\u001b[0;34m\u001b[0m\u001b[0;34m\u001b[0m\u001b[0m\n\u001b[1;32m    103\u001b[0m \u001b[0;34m\u001b[0m\u001b[0m\n\u001b[0;32m--> 104\u001b[0;31m         \u001b[0;32mraise\u001b[0m \u001b[0mCoercionFailed\u001b[0m\u001b[0;34m(\u001b[0m\u001b[0;34m\"can't convert %s of type %s from %s to %s\"\u001b[0m \u001b[0;34m%\u001b[0m \u001b[0;34m(\u001b[0m\u001b[0melement\u001b[0m\u001b[0;34m,\u001b[0m \u001b[0mtype\u001b[0m\u001b[0;34m(\u001b[0m\u001b[0melement\u001b[0m\u001b[0;34m)\u001b[0m\u001b[0;34m,\u001b[0m \u001b[0mbase\u001b[0m\u001b[0;34m,\u001b[0m \u001b[0mself\u001b[0m\u001b[0;34m)\u001b[0m\u001b[0;34m)\u001b[0m\u001b[0;34m\u001b[0m\u001b[0;34m\u001b[0m\u001b[0m\n\u001b[0m\u001b[1;32m    105\u001b[0m \u001b[0;34m\u001b[0m\u001b[0m\n\u001b[1;32m    106\u001b[0m     \u001b[0;32mdef\u001b[0m \u001b[0mconvert\u001b[0m\u001b[0;34m(\u001b[0m\u001b[0mself\u001b[0m\u001b[0;34m,\u001b[0m \u001b[0melement\u001b[0m\u001b[0;34m,\u001b[0m \u001b[0mbase\u001b[0m\u001b[0;34m=\u001b[0m\u001b[0;32mNone\u001b[0m\u001b[0;34m)\u001b[0m\u001b[0;34m:\u001b[0m\u001b[0;34m\u001b[0m\u001b[0;34m\u001b[0m\u001b[0m\n",
            "\u001b[0;31mCoercionFailed\u001b[0m: can't convert (-K**7*alpha1 - K**7*alpha2 - K**7*alpha3 + 2000.0*K**7*beta2 + 2000.0*K**7*beta3 + 2000.0*K**7*beta4 + 2000.0*K**7*beta5 + 10000.0*K**6*alpha1 + 14000.0*K**6*alpha2 + 10000.0*K**6*alpha3 - 24000000.0*K**6*beta2 - 24000000.0*K**6*beta3 - 24000000.0*K**6*beta4 - 24000000.0*K**6*beta5 - 36000000.0*K**5*alpha1 - 84000000.0*K**5*alpha2 - 36000000.0*K**5*alpha3 + 120000000000.0*K**5*beta2 + 120000000000.0*K**5*beta3 + 120000000000.0*K**5*beta4 + 120000000000.0*K**5*beta5 + 40000000000.0*K**4*alpha1 + 280000000000.0*K**4*alpha2 + 40000000000.0*K**4*alpha3 - 320000000000000.0*K**4*beta2 - 320000000000000.0*K**4*beta3 - 320000000000000.0*K**4*beta4 - 320000000000000.0*K**4*beta5 + 80000000000000.0*K**3*alpha1 - 560000000000000.0*K**3*alpha2 + 80000000000000.0*K**3*alpha3 + 4.8e+17*K**3*beta2 + 4.8e+17*K**3*beta3 + 4.8e+17*K**3*beta4 + 4.8e+17*K**3*beta5 - 2.88e+17*K**2*alpha1 + 6.72e+17*K**2*alpha2 - 2.88e+17*K**2*alpha3 - 3.84e+20*K**2*beta2 - 3.84e+20*K**2*beta3 - 3.84e+20*K**2*beta4 - 3.84e+20*K**2*beta5 + 3.2e+20*K*alpha1 - 4.48e+20*K*alpha2 + 3.2e+20*K*alpha3 + 1.28e+23*K*beta2 + 1.28e+23*K*beta3 + 1.28e+23*K*beta4 + 1.28e+23*K*beta5 - 1.28e+23*alpha1 + 1.28e+23*alpha2 - 1.28e+23*alpha3)/(K - 2000.0) of type <class 'sympy.polys.fields.FracElement'> from RR(K,alpha1,alpha2,alpha3,beta2,beta3,beta4,beta5) to RR[K,alpha1,alpha2,alpha3,beta2,beta3,beta4,beta5]"
          ]
        }
      ]
    }
  ]
}